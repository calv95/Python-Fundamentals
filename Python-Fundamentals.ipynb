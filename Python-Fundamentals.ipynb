{
 "cells": [
  {
   "cell_type": "markdown",
   "metadata": {},
   "source": [
    "<img src=\"http://imgur.com/1ZcRyrc.png\" style=\"float: left; margin: 15px; height: 80px\">\n",
    "\n",
    "# Project 1\n",
    "\n",
    "### Building \"Pokemon Stay\"\n",
    "\n",
    "---\n",
    "You are an analyst at a \"scrappy\" online gaming company that specializes in remakes of last year's fads.\n",
    "\n",
    "Your boss, who runs the product development team, is convinced that Pokemon Go's fatal flaw was that you had to actually move around outside. She has design mock-ups for a new game called Pokemon Stay: in this version players still need to move, but just from website to website. Pokemon gyms are now popular online destinations, and catching Pokemon in the \"wild\" simply requires browsing the internet for hours in the comfort of your home.\n",
    "\n",
    "She wants you to program a prototype version of the game and analyze the planned content to help the team calibrate the design."
   ]
  },
  {
   "cell_type": "markdown",
   "metadata": {
    "toc": true
   },
   "source": [
    "<h1>Table of Contents<span class=\"tocSkip\"></span></h1>\n",
    "<div class=\"toc\"><ul class=\"toc-item\"><li><ul class=\"toc-item\"><li><span><a href=\"#Building-&quot;Pokemon-Stay&quot;\" data-toc-modified-id=\"Building-&quot;Pokemon-Stay&quot;-0.1\">Building \"Pokemon Stay\"</a></span><ul class=\"toc-item\"><li><span><a href=\"#Package-imports\" data-toc-modified-id=\"Package-imports-0.1.1\">Package imports</a></span></li></ul></li></ul></li><li><span><a href=\"#1.-Defining-a-player\" data-toc-modified-id=\"1.-Defining-a-player-1\">1. Defining a player</a></span></li><li><span><a href=\"#2.-Defining-&quot;gym&quot;-locations\" data-toc-modified-id=\"2.-Defining-&quot;gym&quot;-locations-2\">2. Defining \"gym\" locations</a></span></li><li><span><a href=\"#3.-Create-a-pokedex\" data-toc-modified-id=\"3.-Create-a-pokedex-3\">3. Create a pokedex</a></span></li><li><span><a href=\"#4.-Create-a-data-structure-for-players\" data-toc-modified-id=\"4.-Create-a-data-structure-for-players-4\">4. Create a data structure for players</a></span><ul class=\"toc-item\"><li><span><a href=\"#4.1\" data-toc-modified-id=\"4.1-4.1\">4.1</a></span></li><li><span><a href=\"#4.2\" data-toc-modified-id=\"4.2-4.2\">4.2</a></span></li></ul></li><li><span><a href=\"#5.-Add-captured-pokemon-for-each-player\" data-toc-modified-id=\"5.-Add-captured-pokemon-for-each-player-5\">5. Add captured pokemon for each player</a></span></li><li><span><a href=\"#6.-What-gyms-have-players-visited?\" data-toc-modified-id=\"6.-What-gyms-have-players-visited?-6\">6. What gyms have players visited?</a></span><ul class=\"toc-item\"><li><span><a href=\"#6.1\" data-toc-modified-id=\"6.1-6.1\">6.1</a></span></li><li><span><a href=\"#6.2\" data-toc-modified-id=\"6.2-6.2\">6.2</a></span></li></ul></li><li><span><a href=\"#7.-Calculate-player-&quot;power&quot;.\" data-toc-modified-id=\"7.-Calculate-player-&quot;power&quot;.-7\">7. Calculate player \"power\".</a></span></li><li><span><a href=\"#8.-Load-a-pokedex-file-containing-all-the-pokemon\" data-toc-modified-id=\"8.-Load-a-pokedex-file-containing-all-the-pokemon-8\">8. Load a pokedex file containing all the pokemon</a></span><ul class=\"toc-item\"><li><span><a href=\"#8.1\" data-toc-modified-id=\"8.1-8.1\">8.1</a></span></li><li><span><a href=\"#8.2-Parse-the-raw-pokedex-with-list-comprehensions\" data-toc-modified-id=\"8.2-Parse-the-raw-pokedex-with-list-comprehensions-8.2\">8.2 Parse the raw pokedex with list comprehensions</a></span></li></ul></li><li><span><a href=\"#9.-Write-a-function-to-generate-the-full-pokedex\" data-toc-modified-id=\"9.-Write-a-function-to-generate-the-full-pokedex-9\">9. Write a function to generate the full pokedex</a></span></li><li><span><a href=\"#10.-Write-a-function-to-generate-a-&quot;filtered&quot;-pokedex\" data-toc-modified-id=\"10.-Write-a-function-to-generate-a-&quot;filtered&quot;-pokedex-10\">10. Write a function to generate a \"filtered\" pokedex</a></span></li><li><span><a href=\"#11.-Descriptive-statistics-on-the-prototype-pokedex\" data-toc-modified-id=\"11.-Descriptive-statistics-on-the-prototype-pokedex-11\">11. Descriptive statistics on the prototype pokedex</a></span><ul class=\"toc-item\"><li><span><a href=\"#11.1\" data-toc-modified-id=\"11.1-11.1\">11.1</a></span></li><li><span><a href=\"#11.2\" data-toc-modified-id=\"11.2-11.2\">11.2</a></span></li></ul></li><li><span><a href=\"#12.-Calibrate-the-frequency-of-Pokemon\" data-toc-modified-id=\"12.-Calibrate-the-frequency-of-Pokemon-12\">12. Calibrate the frequency of Pokemon</a></span></li></ul></div>"
   ]
  },
  {
   "cell_type": "markdown",
   "metadata": {},
   "source": [
    "#### Package imports\n",
    "\n",
    "The pprint package below is the only package imported here, and it's not even strictly required to do any of the project. Printing python variables and objects with pprint can help to format them in a \"prettier\" way."
   ]
  },
  {
   "cell_type": "code",
   "execution_count": 1,
   "metadata": {},
   "outputs": [],
   "source": [
    "from pprint import pprint"
   ]
  },
  {
   "cell_type": "markdown",
   "metadata": {},
   "source": [
    "<img src=\"http://imgur.com/l5NasQj.png\" style=\"float: left; margin: 25px 15px 0px 0px; height: 25px\">\n",
    "\n",
    "## 1. Defining a player\n",
    "\n",
    "---\n",
    "\n",
    "The player variables are:\n",
    "\n",
    "    player_id : id code unique to each player (integer)\n",
    "    player_name : entered name of the player (string)\n",
    "    time_played : number of times played the game in minutes (float)\n",
    "    player_pokemon: the player's captured pokemon (dictionary)\n",
    "    gyms_visited: ids of the gyms that a player has visited (list)\n",
    "    \n",
    "Create the components for a player object by defining each of these variables. The dictionary and list variables should just be defined as empty; you can use any (correctly typed) values for the others."
   ]
  },
  {
   "cell_type": "code",
   "execution_count": 2,
   "metadata": {},
   "outputs": [],
   "source": [
    "player_id = 1\n",
    "player_name = 'Blue'\n",
    "time_played = 5205.34\n",
    "player_pokemon = {}\n",
    "gyms_visited = []\n"
   ]
  },
  {
   "cell_type": "markdown",
   "metadata": {},
   "source": [
    "<img src=\"http://imgur.com/l5NasQj.png\" style=\"float: left; margin: 25px 15px 0px 0px; height: 25px\">\n",
    "\n",
    "## 2. Defining \"gym\" locations\n",
    "\n",
    "---\n",
    "\n",
    "As the sole programmer, Pokemon Stay will have to start small. To begin, there will be 10 different gym location websites on the internet. The gym locations are:\n",
    "\n",
    "    1. 'reddit.com'\n",
    "    2. 'amazon.com'\n",
    "    3. 'twitter.com'\n",
    "    4. 'linkedin.com'\n",
    "    5. 'ebay.com'\n",
    "    6. 'netflix.com'\n",
    "    7. 'sporcle.com'\n",
    "    8. 'stackoverflow.com'\n",
    "    9. 'github.com'\n",
    "    10. 'quora.com'\n",
    "\n",
    "1. Set up a list of all the gym locations. This will be a list of strings.\n",
    "2. Append two of these locations to your player's list of visited gyms.\n",
    "3. Print the list."
   ]
  },
  {
   "cell_type": "code",
   "execution_count": 3,
   "metadata": {},
   "outputs": [
    {
     "name": "stdout",
     "output_type": "stream",
     "text": [
      "['ebay.com', 'quora.com']\n"
     ]
    }
   ],
   "source": [
    "#Creating 10 gyms locations\n",
    "gyms = ['reddit.com', 'amazon.com', 'twitter.com', 'linkedin.com', 'ebay.com', 'netflix.com', 'sporcle.com', \n",
    "        'stackoverflow.com', 'github.com', 'quora.com']\n",
    "\n",
    "#appending two locations to the originally empty list, gyms_visited\n",
    "gyms_visited.append(gyms[4])\n",
    "gyms_visited.append(gyms[9])\n",
    "\n",
    "print(gyms_visited)"
   ]
  },
  {
   "cell_type": "markdown",
   "metadata": {},
   "source": [
    "<img src=\"http://imgur.com/l5NasQj.png\" style=\"float: left; margin: 25px 15px 0px 0px; height: 25px\">\n",
    "\n",
    "## 3. Create a pokedex\n",
    "\n",
    "---\n",
    "\n",
    "We also need to create some pokemon to catch. Each pokemon will be defined by these variables:\n",
    "\n",
    "    pokemon_id : unique identifier for each pokemon (integer)\n",
    "    name : the name of the pokemon (string)\n",
    "    type : the category of pokemon (string)\n",
    "    hp : base hitpoints (integer)\n",
    "    attack : base attack (integer)\n",
    "    defense : base defense (integer)\n",
    "    special_attack : base special attack (integer)\n",
    "    special_defense : base sepecial defense (integer)\n",
    "    speed : base speed (integer)\n",
    "\n",
    "We are only going to create 3 different pokemon with these `pokemon_id` and `pokemon_name` values:\n",
    "\n",
    "    1 : 'charmander'\n",
    "    2 : 'squirtle'\n",
    "    3 : 'bulbasaur'\n",
    "\n",
    "Create a dictionary that will contain the pokemon. The keys of the dictionary will be the `pokemon_id` and the values will themselves be dictionaries that contain the other pokemon variables. The structure of the pokedex dictionary will start like so:\n",
    "     \n",
    "     {\n",
    "         1: {\n",
    "                 'name':'charmander',\n",
    "                 'type':'fire',\n",
    "                 ...\n",
    "                 \n",
    "The `type` of charmander, squirtle, and bulbasaur should be `'fire'`, `'water'`, and `'poison'` respectively. The other values are up to you, make them anything you like!\n",
    "\n",
    "Print (or pretty print) the pokedex dictionary with the 3 pokemon."
   ]
  },
  {
   "cell_type": "code",
   "execution_count": 4,
   "metadata": {},
   "outputs": [
    {
     "name": "stdout",
     "output_type": "stream",
     "text": [
      "{1: {'attack': 52,\n",
      "     'defense': 43,\n",
      "     'hp': 39,\n",
      "     'name': 'charmander',\n",
      "     'special_attack': 60,\n",
      "     'special_defense': 50,\n",
      "     'speed': 55,\n",
      "     'type': 'fire'},\n",
      " 2: {'attack': 48,\n",
      "     'defense': 65,\n",
      "     'hp': 44,\n",
      "     'name': 'squirtle',\n",
      "     'special_attack': 50,\n",
      "     'special_defense': 64,\n",
      "     'speed': 43,\n",
      "     'type': 'water'},\n",
      " 3: {'attack': 49,\n",
      "     'defense': 49,\n",
      "     'hp': 45,\n",
      "     'name': 'bulbasaur',\n",
      "     'special_attack': 65,\n",
      "     'special_defense': 65,\n",
      "     'speed': 45,\n",
      "     'type': 'Poison'}}\n"
     ]
    }
   ],
   "source": [
    "pokemon = {\n",
    "    1: {\n",
    "        'name': 'charmander',\n",
    "        'type': 'fire',\n",
    "        'hp': 39,\n",
    "        'attack': 52,\n",
    "        'defense': 43,\n",
    "        'special_attack': 60,\n",
    "        'special_defense': 50,\n",
    "        'speed': 55\n",
    "    },\n",
    "    \n",
    "    2: {\n",
    "        'name': 'squirtle',\n",
    "        'type': 'water',\n",
    "        'hp': 44,\n",
    "        'attack': 48,\n",
    "        'defense': 65,\n",
    "        'special_attack': 50,\n",
    "        'special_defense': 64,\n",
    "        'speed': 43,\n",
    "    },\n",
    "    \n",
    "    3: {\n",
    "        'name': 'bulbasaur',\n",
    "        'type': 'Poison',\n",
    "        'hp': 45,\n",
    "        'attack': 49,\n",
    "        'defense': 49,\n",
    "        'special_attack': 65,\n",
    "        'special_defense': 65,\n",
    "        'speed': 45\n",
    "    }\n",
    "}\n",
    "pprint(pokemon)\n"
   ]
  },
  {
   "cell_type": "markdown",
   "metadata": {},
   "source": [
    "<img src=\"http://imgur.com/l5NasQj.png\" style=\"float: left; margin: 25px 15px 0px 0px; height: 25px\">\n",
    "\n",
    "## 4. Create a data structure for players\n",
    "\n",
    "---\n",
    "\n",
    "### 4.1 \n",
    "\n",
    "In order to maintain a database of multiple players, create a dictionary that keeps track of players indexed by `player_id`. \n",
    "\n",
    "The keys of the dictionary will be `player_id` and the values will be dictionaries containing each player's variables (from question 1). \n",
    "\n",
    "Construct the `players` dictionary and insert the player that you defined in question 1, then print `players`."
   ]
  },
  {
   "cell_type": "code",
   "execution_count": 5,
   "metadata": {},
   "outputs": [
    {
     "name": "stdout",
     "output_type": "stream",
     "text": [
      "{1: {'gyms_visited': ['ebay.com', 'quora.com'],\n",
      "     'player_name': 'Blue',\n",
      "     'player_pokemon': {},\n",
      "     'time_played': 5205.34}}\n"
     ]
    }
   ],
   "source": [
    "players = {\n",
    "    player_id: {\n",
    "        'player_name': player_name, \n",
    "        'time_played': time_played,\n",
    "        'player_pokemon': player_pokemon,\n",
    "        'gyms_visited': gyms_visited\n",
    "    }\n",
    "}\n",
    "pprint(players)"
   ]
  },
  {
   "cell_type": "markdown",
   "metadata": {},
   "source": [
    "---\n",
    "\n",
    "### 4.2\n",
    "\n",
    "Create a new player with `player_id = 2` in the `players` dictionary. Leave the `'player_pokemon'` dictionary empty. Append `'stackoverflow'` and `'github.com'` to the `'gyms_visited'` list for player 2.\n",
    "\n",
    "The `'player_name'` and `'time_played'` values are up to you, but must be a string and float, respectively.\n",
    "\n",
    "Remember, the player_id is the key for the player in the players dictionary.\n",
    "\n",
    "Print the `players` dictionary with the new player inserted."
   ]
  },
  {
   "cell_type": "code",
   "execution_count": 6,
   "metadata": {},
   "outputs": [
    {
     "name": "stdout",
     "output_type": "stream",
     "text": [
      "{1: {'gyms_visited': ['ebay.com', 'quora.com'],\n",
      "     'player_name': 'Blue',\n",
      "     'player_pokemon': {},\n",
      "     'time_played': 5205.34},\n",
      " 2: {'gyms_visited': ['stackoverflow.com', 'github.com'],\n",
      "     'player_name': 'Red',\n",
      "     'player_pokemon': {},\n",
      "     'time_played': 10942.32}}\n"
     ]
    }
   ],
   "source": [
    "players[2] = {\n",
    "    'player_name': 'Red',\n",
    "    'time_played': 10942.32,\n",
    "    'player_pokemon': {},\n",
    "    'gyms_visited': ['stackoverflow.com', 'github.com']\n",
    "}\n",
    "\n",
    "pprint(players)"
   ]
  },
  {
   "cell_type": "markdown",
   "metadata": {},
   "source": [
    "<img src=\"http://imgur.com/l5NasQj.png\" style=\"float: left; margin: 25px 15px 0px 0px; height: 25px\">\n",
    "\n",
    "## 5. Add captured pokemon for each player\n",
    "\n",
    "---\n",
    "\n",
    "The `'player_pokemon'` keyed dictionaries for each player keep track of which of the pokemon each player has.\n",
    "\n",
    "The keys of the `'player_pokemon'` dictionaries are the pokemon ids that correspond to the ids in the `pokedex` dictionary you created earlier. The values are integers specifying the stats for the pokemon.\n",
    "\n",
    "Give player 1 a squirtle. Give player 2 a charmander and a bulbasaur.\n",
    "\n",
    "Print the players dictionary after adding the pokemon for each player.\n"
   ]
  },
  {
   "cell_type": "code",
   "execution_count": 7,
   "metadata": {},
   "outputs": [
    {
     "data": {
      "text/plain": [
       "{1: {'player_name': 'Blue',\n",
       "  'time_played': 5205.34,\n",
       "  'player_pokemon': {2: {'name': 'squirtle',\n",
       "    'type': 'water',\n",
       "    'hp': 44,\n",
       "    'attack': 48,\n",
       "    'defense': 65,\n",
       "    'special_attack': 50,\n",
       "    'special_defense': 64,\n",
       "    'speed': 43}},\n",
       "  'gyms_visited': ['ebay.com', 'quora.com']},\n",
       " 2: {'player_name': 'Red',\n",
       "  'time_played': 10942.32,\n",
       "  'player_pokemon': {1: {'name': 'charmander',\n",
       "    'type': 'fire',\n",
       "    'hp': 39,\n",
       "    'attack': 52,\n",
       "    'defense': 43,\n",
       "    'special_attack': 60,\n",
       "    'special_defense': 50,\n",
       "    'speed': 55},\n",
       "   3: {'name': 'bulbasaur',\n",
       "    'type': 'Poison',\n",
       "    'hp': 45,\n",
       "    'attack': 49,\n",
       "    'defense': 49,\n",
       "    'special_attack': 65,\n",
       "    'special_defense': 65,\n",
       "    'speed': 45}},\n",
       "  'gyms_visited': ['stackoverflow.com', 'github.com']}}"
      ]
     },
     "execution_count": 7,
     "metadata": {},
     "output_type": "execute_result"
    }
   ],
   "source": [
    "players[1]['player_pokemon'][2] = pokemon[2]\n",
    "players[2]['player_pokemon'][1] = pokemon[1]\n",
    "players[2]['player_pokemon'][3] = pokemon[3]\n",
    "\n",
    "players"
   ]
  },
  {
   "cell_type": "markdown",
   "metadata": {},
   "source": [
    "## 6. What gyms have players visited?\n",
    "\n",
    "---"
   ]
  },
  {
   "cell_type": "markdown",
   "metadata": {},
   "source": [
    "<img src=\"http://imgur.com/l5NasQj.png\" style=\"float: left; margin: 25px 15px 0px 0px; height: 25px\">\n",
    "\n",
    "### 6.1\n",
    "\n",
    "Write a for-loop that:\n",
    "\n",
    "1. Iterates through the `pokemon_gyms` list of gym locations you defined before.\n",
    "2. For each gym, iterate through each player in the `players` dictionary with a second, internal for-loop.\n",
    "3. If the player has visited the gym, print out \"[player] has visited [gym location].\", filling in [player] and [gym location] with the current player's name and current gym location."
   ]
  },
  {
   "cell_type": "code",
   "execution_count": 8,
   "metadata": {},
   "outputs": [
    {
     "name": "stdout",
     "output_type": "stream",
     "text": [
      "Blue has visited ebay.com\n",
      "Red has visited stackoverflow.com\n",
      "Red has visited github.com\n",
      "Blue has visited quora.com\n",
      "Number of loop runs: 20\n"
     ]
    }
   ],
   "source": [
    "count = 0\n",
    "for gym in gyms:\n",
    "    for key in players:\n",
    "        if gym in players[key]['gyms_visited']:\n",
    "            print(\"%s has visited %s\" %(players[key]['player_name'], gym))\n",
    "        count += 1\n",
    "print(\"Number of loop runs:\", count)                "
   ]
  },
  {
   "cell_type": "markdown",
   "metadata": {},
   "source": [
    "<img src=\"http://imgur.com/xDpSobf.png\" style=\"float: left; margin: 25px 15px 0px 0px; height: 25px\">\n",
    "\n",
    "### 6.2\n",
    "\n",
    "How many times did that loop run? If you have N gyms and also N players, how many times would it run as a function of N?\n",
    "\n",
    "Can you think of a more efficient way to accomplish the same thing? \n",
    "\n",
    "(You can write your answer as Markdown text.)"
   ]
  },
  {
   "cell_type": "code",
   "execution_count": 9,
   "metadata": {},
   "outputs": [
    {
     "name": "stdout",
     "output_type": "stream",
     "text": [
      "Blue has visited ebay.com\n",
      "Blue has visited quora.com\n",
      "Red has visited stackoverflow.com\n",
      "Red has visited github.com\n",
      "Number of loop runs: 4\n"
     ]
    }
   ],
   "source": [
    "#More efficient loop\n",
    "\n",
    "count = 0\n",
    "for key in players:\n",
    "    for visited_gyms in players[key]['gyms_visited']:\n",
    "        if visited_gyms in gyms:\n",
    "            print(\"%s has visited %s\" %(players[key]['player_name'], visited_gyms))\n",
    "        count += 1\n",
    "print(\"Number of loop runs:\", count) "
   ]
  },
  {
   "cell_type": "markdown",
   "metadata": {},
   "source": [
    "The number of loop runs for the first loop is equal to N * N. Since the number of gyms = 10 and the number of\n",
    "players = 2, we find that the number of loop runs is just 10 * 2 = 20."
   ]
  },
  {
   "cell_type": "markdown",
   "metadata": {},
   "source": [
    "<img src=\"http://imgur.com/l5NasQj.png\" style=\"float: left; margin: 25px 15px 0px 0px; height: 25px\">\n",
    "\n",
    "## 7. Calculate player \"power\".\n",
    "\n",
    "---\n",
    "\n",
    "Define a function that will calculate a player's \"power\". Player power is defined as the sum of the base statistics of all their pokemon.\n",
    "\n",
    "Your function will:\n",
    "\n",
    "1. Accept the `players` dictionary, `pokedex` dictionary, and a player_id as arguments.\n",
    "2. For the specified player_id, look up that player's pokemon and their level(s).\n",
    "3. Find and aggregate the attack and defense values for each of the player's pokemon from the `pokedex` dictionary.\n",
    "4. Print \"[player name]'s power is [player power].\", where the player power is the sum of the base statistics for all of their pokemon.\n",
    "5. Return the player's power value.\n",
    "\n",
    "Print out the pokemon power for each of your players."
   ]
  },
  {
   "cell_type": "code",
   "execution_count": 10,
   "metadata": {},
   "outputs": [],
   "source": [
    "def power(player_dict, pokedex_dict, player_id):\n",
    "    \n",
    "    player_power = 0\n",
    "    for poke_id in player_dict[player_id]['player_pokemon'].keys():\n",
    "        player_power += pokedex_dict[poke_id]['attack'] + pokedex_dict[poke_id]['defense']\n",
    "    \n",
    "    return player_power\n",
    "    "
   ]
  },
  {
   "cell_type": "code",
   "execution_count": 11,
   "metadata": {},
   "outputs": [
    {
     "name": "stdout",
     "output_type": "stream",
     "text": [
      "Red's power is 193\n"
     ]
    }
   ],
   "source": [
    "print(\"{}'s power is {}\".format(players[2]['player_name'], str(power(players, pokemon, 2))))\n"
   ]
  },
  {
   "cell_type": "markdown",
   "metadata": {
    "collapsed": true
   },
   "source": [
    "<img src=\"http://imgur.com/l5NasQj.png\" style=\"float: left; margin: 25px 15px 0px 0px; height: 25px\">\n",
    "\n",
    "## 8. Load a pokedex file containing all the pokemon\n",
    "\n",
    "---\n",
    "\n",
    "### 8.1\n",
    "\n",
    "While you were putting together the prototype code, your colleagues were preparing a dataset of Pokemon and their attributes. (This was a rush job, so they may have picked some crazy values for some...)\n",
    "\n",
    "The code below loads information from a comma separated value (csv) file. You need to parse this string into a more useable format. The format of the string is:\n",
    "\n",
    "- Rows are separated by newline characters: \\n\n",
    "- Columns are separated by commas: ,\n",
    "- All cells in the csv are double quoted. Ex: \"PokedexNumber\" is the first cell of the first row.\n",
    "\n",
    "\n",
    "Using for-loops, create a list of lists where each list within the overall list is a row of the csv/matrix, and each element in that list is a cell in that row. Additional criteria:\n",
    "\n",
    "1. Quotes are removed from each cell item.\n",
    "2. Numeric column values are converted to floats.\n",
    "3. There are some cells that are empty and have no information. For these cells put a -1 value in place.\n",
    "\n",
    "Your end result is effectively a matrix. Each list in the outer list is a row, and the *j*th elements of the list together form the *j*th column, which represents a data attribute. The first three lists in your pokedex list should look like this:\n",
    "\n",
    "    ['PokedexNumber', 'Name', 'Type', 'Total', 'HP', 'Attack', 'Defense', 'SpecialAttack', 'SpecialDefense', 'Speed']\n",
    "    [1.0, 'Bulbasaur', 'GrassPoison', 318.0, 45.0, 49.0, 49.0, 65.0, 65.0, 45.0]\n",
    "    [2.0, 'Ivysaur', 'GrassPoison', 405.0, 60.0, 62.0, 63.0, 80.0, 80.0, 60.0]"
   ]
  },
  {
   "cell_type": "code",
   "execution_count": 12,
   "metadata": {},
   "outputs": [
    {
     "name": "stdout",
     "output_type": "stream",
     "text": [
      "[['PokedexNumber', 'Name', 'Type', 'Total', 'HP', 'Attack', 'Defense', 'SpecialAttack', 'SpecialDefense', 'Speed'], [1.0, 'Bulbasaur', 'GrassPoison', 318.0, 45.0, 49.0, 49.0, 65.0, 65.0, 45.0], [2.0, 'Ivysaur', 'GrassPoison', 405.0, 60.0, 62.0, 63.0, 80.0, 80.0, 60.0]]\n"
     ]
    }
   ],
   "source": [
    "raw_pd = ''\n",
    "pokedex_file = 'pokedex_basic.csv'\n",
    "\n",
    "with open(pokedex_file, 'r') as f:\n",
    "    raw_pd = f.read()\n",
    "    \n",
    "pokedex = []\n",
    "for row in raw_pd.replace('\"', '').split('\\n'):\n",
    "    poke_sublist = []\n",
    "    for x in row.split(','):\n",
    "        try:\n",
    "            poke_sublist.append(float(x))\n",
    "        except:\n",
    "            if x == '':\n",
    "                poke_sublist.append(-1)\n",
    "            else:\n",
    "                poke_sublist.append(x)\n",
    "    pokedex.append(poke_sublist)\n",
    "\n",
    "print(pokedex[:3])\n",
    "    "
   ]
  },
  {
   "cell_type": "code",
   "execution_count": 13,
   "metadata": {},
   "outputs": [
    {
     "data": {
      "text/plain": [
       "[['PokedexNumber',\n",
       "  'Name',\n",
       "  'Type',\n",
       "  'Total',\n",
       "  'HP',\n",
       "  'Attack',\n",
       "  'Defense',\n",
       "  'SpecialAttack',\n",
       "  'SpecialDefense',\n",
       "  'Speed'],\n",
       " [1.0, 'Bulbasaur', 'GrassPoison', 318.0, 45.0, 49.0, 49.0, 65.0, 65.0, 45.0],\n",
       " [2.0, 'Ivysaur', 'GrassPoison', 405.0, 60.0, 62.0, 63.0, 80.0, 80.0, 60.0]]"
      ]
     },
     "execution_count": 13,
     "metadata": {},
     "output_type": "execute_result"
    }
   ],
   "source": [
    "pokedex = []\n",
    "\n",
    "for sublist in raw_pd.replace('\"', '').split('\\n'):\n",
    "    poke_sub = []\n",
    "    for x in sublist.split(','):\n",
    "        if x == '':\n",
    "            x.append(-1)\n",
    "        elif x.isdigit():\n",
    "            poke_sub.append(float(x))\n",
    "        else:\n",
    "            poke_sub.append(x)\n",
    "    pokedex.append(poke_sub)\n",
    "pokedex[:3]"
   ]
  },
  {
   "cell_type": "markdown",
   "metadata": {},
   "source": [
    "<img src=\"http://imgur.com/xDpSobf.png\" style=\"float: left; margin: 25px 15px 0px 0px; height: 25px\">\n",
    "\n",
    "### 8.2 Parse the raw pokedex with list comprehensions\n",
    "\n",
    "---\n",
    "\n",
    "Perform the same parsing as above, but **using only a single list comprehension** instead of for loops. You may have nested list comprehensions within the main list comprehension! The output should be exactly the same."
   ]
  },
  {
   "cell_type": "code",
   "execution_count": 14,
   "metadata": {},
   "outputs": [],
   "source": [
    "raw_pd = ''\n",
    "pokedex_file = 'pokedex_basic.csv'\n",
    "with open(pokedex_file, 'r') as f:\n",
    "    raw_pd = f.read()"
   ]
  },
  {
   "cell_type": "code",
   "execution_count": 15,
   "metadata": {},
   "outputs": [
    {
     "data": {
      "text/plain": [
       "[['PokedexNumber',\n",
       "  'Name',\n",
       "  'Type',\n",
       "  'Total',\n",
       "  'HP',\n",
       "  'Attack',\n",
       "  'Defense',\n",
       "  'SpecialAttack',\n",
       "  'SpecialDefense',\n",
       "  'Speed'],\n",
       " [1.0, 'Bulbasaur', 'GrassPoison', 318.0, 45.0, 49.0, 49.0, 65.0, 65.0, 45.0],\n",
       " [2.0, 'Ivysaur', 'GrassPoison', 405.0, 60.0, 62.0, 63.0, 80.0, 80.0, 60.0]]"
      ]
     },
     "execution_count": 15,
     "metadata": {},
     "output_type": "execute_result"
    }
   ],
   "source": [
    "[[float(item) if item.isdigit() else -1 if item == '' else item for item in row] for row in \\\n",
    " [clean_list.split(',') for clean_list in raw_pd.replace('\"', '').split('\\n')]][:3]\n"
   ]
  },
  {
   "cell_type": "markdown",
   "metadata": {},
   "source": [
    "<img src=\"http://imgur.com/l5NasQj.png\" style=\"float: left; margin: 25px 15px 0px 0px; height: 25px\">\n",
    "\n",
    "## 9. Write a function to generate the full pokedex\n",
    "\n",
    "---\n",
    "\n",
    "Write a function that recreates the pokedex you made before, but with the data read in from the full pokemon file. Create a unique key value for each entry in the pokemon dictionary.\n",
    "\n",
    "Your function should:\n",
    "\n",
    "1. Take the parsed pokedex information you created above as an argument.\n",
    "2. Return a dictionary in the same format as your original pokedex you created before containing the information from the parsed full pokedex file.\n",
    "\n",
    "To test the function, print out the pokemon with id = 100."
   ]
  },
  {
   "cell_type": "code",
   "execution_count": 16,
   "metadata": {},
   "outputs": [
    {
     "data": {
      "text/plain": [
       "{'PokedexNumber': 92.0,\n",
       " 'Name': 'Gastly',\n",
       " 'Type': 'GhostPoison',\n",
       " 'Total': 310.0,\n",
       " 'HP': 30.0,\n",
       " 'Attack': 35.0,\n",
       " 'Defense': 30.0,\n",
       " 'SpecialAttack': 100.0,\n",
       " 'SpecialDefense': 35.0,\n",
       " 'Speed': 80.0}"
      ]
     },
     "execution_count": 16,
     "metadata": {},
     "output_type": "execute_result"
    }
   ],
   "source": [
    "def pokedex_dictionary(pokedex_list):\n",
    "    \"\"\"Turns a list of lists into a dictionary using a dictionary comprehension\"\"\"\n",
    "    pokedex = {index: {header: poke_stat for header, poke_stat in zip(pokedex_list[0], poke_list)}  \n",
    "               for index, poke_list in enumerate(pokedex_list[1:], 1)}\n",
    "    \n",
    "    return pokedex\n",
    "\n",
    "pokedex_dictionary(pokedex)[100]"
   ]
  },
  {
   "cell_type": "code",
   "execution_count": 17,
   "metadata": {},
   "outputs": [
    {
     "data": {
      "text/plain": [
       "{'PokedexNumber': 92.0,\n",
       " 'Name': 'Gastly',\n",
       " 'Type': 'GhostPoison',\n",
       " 'Total': 310.0,\n",
       " 'HP': 30.0,\n",
       " 'Attack': 35.0,\n",
       " 'Defense': 30.0,\n",
       " 'SpecialAttack': 100.0,\n",
       " 'SpecialDefense': 35.0,\n",
       " 'Speed': 80.0}"
      ]
     },
     "execution_count": 17,
     "metadata": {},
     "output_type": "execute_result"
    }
   ],
   "source": [
    "def pokedex_dictionary(pokedex_list):\n",
    "    pokedex = {}\n",
    "    for index, poke_list in enumerate(pokedex_list[1:], 1):\n",
    "        pokedex_ = {}\n",
    "        for header, poke_stat in zip(pokedex_list[0], poke_list):\n",
    "            pokedex_[header] = poke_stat\n",
    "        pokedex[index] = pokedex_\n",
    "    \n",
    "    return pokedex\n",
    "\n",
    "pokedex_dictionary(pokedex)[100]"
   ]
  },
  {
   "cell_type": "markdown",
   "metadata": {},
   "source": [
    "<img src=\"http://i.imgur.com/GCAf1UX.png\" style=\"float: left; margin: 25px 15px 0px 0px; height: 25px\">\n",
    "\n",
    "## 10. Write a function to generate a \"filtered\" pokedex\n",
    "---\n",
    "Your function should:\n",
    "1. Take the parsed pokedex information you created above as an argument.\n",
    "1. Take a dictionary as a parameter with keys matching the features of the Pokedex, filtering by exact match for string type values, and/or filter continuous variables specified by a value that is greater than or equal to the value of the corresponding dictionary key parameter.\n",
    "1. Return multiple elements from the Pokedex\n",
    "\n",
    "Example:\n",
    "\n",
    "```python\n",
    "\n",
    "# Only filter based on parameters passed\n",
    "filter_options = {\n",
    "    'Attack':   25,\n",
    "    'Defense':  30,\n",
    "    'Type':     'Electric'\n",
    "}\n",
    "\n",
    "# Return records with attack >= 25, defense >= 30, and type == \"Electric\"\n",
    "# Also anticipate that other paramters can also be passed such as \"SpecialAttack\", \"Speed\", etc.\n",
    "filtered_pokedex(pokedex_data, filter=filter_options)\n",
    "\n",
    "# Example output:\n",
    "# [{'Attack': 30.0,\n",
    "#  'Defense': 50.0,\n",
    "#  'HP': 40.0,\n",
    "#  'Name': 'Voltorb',\n",
    "#  'SpecialAttack': 55.0,\n",
    "#  'SpecialDefense': 55.0,\n",
    "#  'Speed': 100.0,\n",
    "#  'Total': 330.0,\n",
    "#  'Type': 'Electric'},\n",
    "#  {'Attack': 30.0,\n",
    "#  'Defense': 33.0,\n",
    "#  'HP': 32.0,\n",
    "#  'Name': 'Pikachu',\n",
    "#  'SpecialAttack': 55.0,\n",
    "#  'SpecialDefense': 55.0,\n",
    "#  'Speed': 100.0,\n",
    "#  'Total': 330.0,\n",
    "#  'Type': 'Electric'},\n",
    "#  ... etc\n",
    "#  ]\n",
    "\n",
    "```\n",
    "\n"
   ]
  },
  {
   "cell_type": "code",
   "execution_count": 18,
   "metadata": {},
   "outputs": [],
   "source": [
    "filter_options = {'Attack':   25, 'Defense':  30, 'Type': 'Electric'}\n",
    "pokedex_data = pokedex_dictionary(pokedex)\n",
    "\n",
    "def filter_dictionary(pokedex_dictionary, filter=filter_options, poke_id = False):\n",
    "    filter_list = []\n",
    "    filter_dict = {}\n",
    "    for index, value in pokedex_dictionary.items():\n",
    "        counter = 0\n",
    "        for filter_stat, stat in filter.items():\n",
    "            if type(stat) == str:\n",
    "                if value[filter_stat] == stat:\n",
    "                    counter += 1\n",
    "                else:\n",
    "                    pass\n",
    "            elif type(stat) == float or type(stat) == int:\n",
    "                if value[filter_stat] >= stat:\n",
    "                    counter += 1\n",
    "                else:\n",
    "                    pass\n",
    "            #provide a range of values inside a list. First element should be lower bound and second element should be upper bound\n",
    "            else:\n",
    "                if value[filter_stat] > stat[0] and value[filter_stat] <= stat[1]:\n",
    "                    counter += 1\n",
    "                else:\n",
    "                    pass\n",
    "                \n",
    "        if counter == len(filter) and poke_id==False:\n",
    "            filter_list.append(pokedex_data[index])\n",
    "        elif counter == len(filter) and poke_id==True:\n",
    "            filter_list.append({index: pokedex_data[index]}) #returns the filtered list with the pokemon id as well\n",
    "\n",
    "    \n",
    "    return filter_list\n"
   ]
  },
  {
   "cell_type": "code",
   "execution_count": 19,
   "metadata": {},
   "outputs": [
    {
     "data": {
      "text/plain": [
       "[{'PokedexNumber': 25.0,\n",
       "  'Name': 'Pikachu',\n",
       "  'Type': 'Electric',\n",
       "  'Total': 320.0,\n",
       "  'HP': 35.0,\n",
       "  'Attack': 55.0,\n",
       "  'Defense': 40.0,\n",
       "  'SpecialAttack': 50.0,\n",
       "  'SpecialDefense': 50.0,\n",
       "  'Speed': 90.0},\n",
       " {'PokedexNumber': 26.0,\n",
       "  'Name': 'Raichu',\n",
       "  'Type': 'Electric',\n",
       "  'Total': 485.0,\n",
       "  'HP': 60.0,\n",
       "  'Attack': 90.0,\n",
       "  'Defense': 55.0,\n",
       "  'SpecialAttack': 90.0,\n",
       "  'SpecialDefense': 80.0,\n",
       "  'Speed': 110.0},\n",
       " {'PokedexNumber': 100.0,\n",
       "  'Name': 'Voltorb',\n",
       "  'Type': 'Electric',\n",
       "  'Total': 330.0,\n",
       "  'HP': 40.0,\n",
       "  'Attack': 30.0,\n",
       "  'Defense': 50.0,\n",
       "  'SpecialAttack': 55.0,\n",
       "  'SpecialDefense': 55.0,\n",
       "  'Speed': 100.0}]"
      ]
     },
     "execution_count": 19,
     "metadata": {},
     "output_type": "execute_result"
    }
   ],
   "source": [
    "filter_dictionary(pokedex_data, filter_options)[:3]"
   ]
  },
  {
   "cell_type": "markdown",
   "metadata": {
    "collapsed": true
   },
   "source": [
    "\n",
    "## 11. Descriptive statistics on the prototype pokedex\n",
    "\n",
    "<img src=\"http://imgur.com/l5NasQj.png\" style=\"float: left; margin: 25px 15px 0px 0px; height: 25px\">\n",
    "\n",
    "### 11.1\n",
    "\n",
    "What is the population mean and standard deviation of the \"Total\" attribute for all characters in the Pokedex?\n",
    "\n"
   ]
  },
  {
   "cell_type": "code",
   "execution_count": 20,
   "metadata": {},
   "outputs": [
    {
     "name": "stdout",
     "output_type": "stream",
     "text": [
      "The mean of the total attribute is: 434.92115143929914\n",
      "The standard deviation of the total attribute is: 119.89509407250225\n"
     ]
    }
   ],
   "source": [
    "import numpy as np\n",
    "\n",
    "total = []\n",
    "for n in range(1, len(pokedex_data)):\n",
    "    total.append(pokedex_data[n]['Total'])\n",
    "\n",
    "mean_total = np.mean(total)\n",
    "std_total = np.std(total)\n",
    "\n",
    "print(\"The mean of the total attribute is:\", mean_total)\n",
    "print(\"The standard deviation of the total attribute is:\", std_total)"
   ]
  },
  {
   "cell_type": "markdown",
   "metadata": {},
   "source": [
    "<img src=\"http://imgur.com/l5NasQj.png\" style=\"float: left; margin: 25px 15px 0px 0px; height: 25px\">\n",
    "\n",
    "### 11.2\n",
    "\n",
    "The game is no fun if the characters are wildly unbalanced! Are any characters \"overpowered\", which we'll define as having a \"Total\" more than three standard deviations from the population mean?"
   ]
  },
  {
   "cell_type": "code",
   "execution_count": 21,
   "metadata": {},
   "outputs": [
    {
     "name": "stdout",
     "output_type": "stream",
     "text": [
      "MewtwoMega Mewtwo X is overpowered with a total attribute of 800.0\n"
     ]
    }
   ],
   "source": [
    "overpowered_pokemon = []\n",
    "overpowered_metric = mean_total + (3 * std_total)\n",
    "for n in range(1, len(pokedex_data)):\n",
    "    if pokedex_data[n]['Total'] > overpowered_metric:\n",
    "        print(\"{} is overpowered with a total attribute of {}\".format(pokedex_data[n]['Name'], pokedex_data[n]['Total']))"
   ]
  },
  {
   "cell_type": "markdown",
   "metadata": {},
   "source": [
    "<img src=\"http://imgur.com/xDpSobf.png\" style=\"float: left; margin: 25px 15px 0px 0px; height: 25px\">\n",
    "\n",
    "## 12. Calibrate the frequency of Pokemon\n",
    "\n",
    "The design team wants you to make the powerful Pokemon rare, and the weaklings more common. How would you set the probability $p_i$ of finding Pokemon *i* each time a player visits a gym?\n",
    "\n",
    "Write a function that takes in a Pokedex number and returns a value $p_i$ for that character.\n",
    "\n",
    "Hint: there are many ways you could do this. What do _you_ think makes sense? Start with simplifying assumptions: for example, you could assume that the probabilities of encountering any two Pokemon on one visit to a gym are independent of each other."
   ]
  },
  {
   "cell_type": "markdown",
   "metadata": {},
   "source": [
    "Start off with some basic assumptions:\n",
    "\n",
    "Let's define our event space, S, where there are two possible events - either the Pokemon appears, event A, or does not appear, event B.\n",
    "\n",
    "Therefore:\n",
    "P(S) = P(A) + P(B)\n",
    "\n",
    "P(S) = 1\n",
    "\n",
    "A Bernoulli distribution will be suitable for this purpose.\n",
    "\n",
    "$X{_i}$ ~ Bernoulli($P{_i}$)\n",
    "\n",
    "$X{_i}$ is a random variable for a specific pokemon given by the subscript i, which will represent the ID of the Pokemon. The variable will be Bernoulli distributed with a certain probability of occuring, denoted by $P{_i}$\n",
    "\n",
    "This means two things, the chance of two or more Pokemon appearing (the same pokemon or not) will be indepedent of each other but not identically distributed for obvious reasons."
   ]
  },
  {
   "cell_type": "markdown",
   "metadata": {},
   "source": [
    "The parameter, $P{_i}$, will be of interest here. We need to define a way such that $P{_i}$ will be bigger for weaker Pokemon and smaller for stronger Pokemon.\n",
    "\n",
    "I think splitting the Pokemon into buckets based off the 'Total' stat makes sense because we can tie the probability of the appearance of a Pokemon with the number of Pokemon within a specific bucket, which naturally implies that the stronger pokemon will have a smaller probability because there are fewer Pokemon with 'high' Total stats.\n",
    "\n",
    "However, I would also like to define a function that gives assigns a unique probability to individual Pokemon and a multiplication factor that will enable to increase or decrease the probability of specific Pokemon appearing, should I desire. \n",
    "\n",
    "I will split the Pokemon into four buckets to begin with by making a few adjustments to the above filtered_dictionary function."
   ]
  },
  {
   "cell_type": "code",
   "execution_count": 22,
   "metadata": {},
   "outputs": [],
   "source": [
    "def filter_dictionary2(pokedex_dictionary, filter=filter_options, poke_id = False, dictionary=False):\n",
    "    filter_list = []\n",
    "    filter_dict = {}\n",
    "    for index, value in pokedex_dictionary.items():\n",
    "        counter = 0\n",
    "        for filter_stat, stat in filter.items():\n",
    "            if type(stat) == str:\n",
    "                if value[filter_stat] == stat:\n",
    "                    counter += 1\n",
    "                else:\n",
    "                    pass\n",
    "            elif type(stat) == float or type(stat) == int:\n",
    "                if value[filter_stat] >= stat:\n",
    "                    counter += 1\n",
    "                else:\n",
    "                    pass\n",
    "            #provide a range of values inside a list. First element should be lower bound and second element should be upper bound\n",
    "            else:\n",
    "                if value[filter_stat] > stat[0] and value[filter_stat] <= stat[1]:\n",
    "                    counter += 1\n",
    "                else:\n",
    "                    pass\n",
    "                \n",
    "        if counter == len(filter) and poke_id==False and dictionary==False:\n",
    "            filter_list.append(pokedex_data[index])\n",
    "        elif counter == len(filter) and poke_id==True and dictionary==False:\n",
    "            filter_list.append({index: pokedex_data[index]}) #returns the filtered list with the pokemon id as well\n",
    "        elif counter == len(filter) and poke_id==True and dictionary==True:\n",
    "            filter_dict.update({index: pokedex_data[index]}) #returns filtered dictionary with \n",
    "            \n",
    "    if dictionary == False:\n",
    "        return filter_list\n",
    "    else:\n",
    "        return filter_dict\n"
   ]
  },
  {
   "cell_type": "code",
   "execution_count": 23,
   "metadata": {},
   "outputs": [],
   "source": [
    "def probability(pokemon_id, prob_factor):\n",
    "    #define the four batches\n",
    "    weak = filter_dictionary2(pokedex_data, filter={'Total': [180, 450]}, poke_id=True, dictionary=True)\n",
    "    semi_avg = filter_dictionary2(pokedex_data, filter={'Total': [450, 550]}, poke_id=True, dictionary=True)\n",
    "    avg = filter_dictionary2(pokedex_data, filter={'Total': [550,650]}, poke_id=True, dictionary=True)\n",
    "    strong = filter_dictionary2(pokedex_data, filter={'Total': [650, 800]}, poke_id=True, dictionary=True)\n",
    "    \n",
    "    if pokemon_id in weak.keys():\n",
    "        prob = (len(weak)/len(pokedex_data)) + (prob_factor/(weak[pokemon_id]['Total']/800))\n",
    "        if prob <=1:\n",
    "            return weak[pokemon_id]['Name'], prob\n",
    "        else:\n",
    "            return 'Probability is currently {} and must be between 0-1. Try decreasing the prob_factor.'.format(prob)\n",
    "    elif pokemon_id in semi_avg.keys():\n",
    "        prob = (len(semi_avg)/len(pokedex_data)) + (prob_factor/(semi_avg[pokemon_id]['Total']/800))\n",
    "        if prob <=1:\n",
    "            return semi_avg[pokemon_id]['Name'], prob\n",
    "        else:\n",
    "            return 'Probability is currently {} and must be between 0-1. Try decreasing the prob_factor.'.format(prob)\n",
    "    elif pokemon_id in avg.keys():\n",
    "        prob = (len(avg)/len(pokedex_data)) + (prob_factor/(avg[pokemon_id]['Total']/800))\n",
    "        if prob <=1:\n",
    "            return avg[pokemon_id]['Name'], prob\n",
    "        else:\n",
    "            return 'Probability is currently {} and must be between 0-1. Try decreasing the prob_factor.'.format(prob)\n",
    "    else:\n",
    "        prob = (len(strong)/len(pokedex_data)) + (prob_factor/(strong[pokemon_id]['Total']/800))\n",
    "        if prob <=1:\n",
    "            return strong[pokemon_id]['Name'], prob\n",
    "        else:\n",
    "            return 'Probability is currently {} and must be between 0-1. Try decreasing the prob_factor.'.format(prob)\n",
    "   "
   ]
  },
  {
   "cell_type": "markdown",
   "metadata": {},
   "source": [
    "My probability function is defined as follows:\n",
    "\n",
    "$P{_i}$ = $\\frac{B{_i}}{N}$  + $\\frac{C{_i}}{R{_i}}$\n",
    "\n",
    "Where $B{_i}$ is the number of pokemon inside the specific bucket, N is the total number of Pokemon (800), $C{_i}$ is a parameter that I can change to either increase or decrease the probability of a certain Pokemon appearing, $R{_i}$ is the ratio of the specific Pokemon's Total stat and the max Total stat.\n",
    "\n",
    "The function has a base probability, which is based off the number of Pokemon within the bucket. If $C{_i}$ goes to 0, the Pokemon's probability will tend to this base probability. Therefore, stronger Pokemon will naturally have a smaller base probability. The second part of the function is what gives the Pokemon their own 'unique' probabilities since the ratio will be different for the majority of Pokemon. $C{_i}$ does not need to be the same for every Pokemon since we are working on the assumption that every Pokemon is not identically distributed. Lastly, one last thing I could also do is add a parameter that increases or decreases the bucket probabilities so that Pokemon from a certain bucket have a higher or smaller chance of occuring. If I were to do this, I would probably also split the Pokemon into their types and another split on their 'Total' stat so that I could increase the chances of a Water Type Pokemon appearing near rivers and lakes for example."
   ]
  },
  {
   "cell_type": "code",
   "execution_count": 24,
   "metadata": {},
   "outputs": [
    {
     "data": {
      "text/plain": [
       "('Weedle', 0.7088782051282052)"
      ]
     },
     "execution_count": 24,
     "metadata": {},
     "output_type": "execute_result"
    }
   ],
   "source": [
    "probability(17, 0.05)"
   ]
  },
  {
   "cell_type": "code",
   "execution_count": 25,
   "metadata": {},
   "outputs": [
    {
     "data": {
      "text/plain": [
       "('MewtwoMega Mewtwo X', 0.14125000000000001)"
      ]
     },
     "execution_count": 25,
     "metadata": {},
     "output_type": "execute_result"
    }
   ],
   "source": [
    "probability(164, 0.1)"
   ]
  }
 ],
 "metadata": {
  "anaconda-cloud": {},
  "kernelspec": {
   "display_name": "Python 3",
   "language": "python",
   "name": "python3"
  },
  "language_info": {
   "codemirror_mode": {
    "name": "ipython",
    "version": 3
   },
   "file_extension": ".py",
   "mimetype": "text/x-python",
   "name": "python",
   "nbconvert_exporter": "python",
   "pygments_lexer": "ipython3",
   "version": "3.7.4"
  },
  "toc": {
   "base_numbering": 1,
   "nav_menu": {
    "height": "159px",
    "width": "264px"
   },
   "number_sections": false,
   "sideBar": true,
   "skip_h1_title": true,
   "title_cell": "Table of Contents",
   "title_sidebar": "Contents",
   "toc_cell": true,
   "toc_position": {},
   "toc_section_display": "block",
   "toc_window_display": false
  }
 },
 "nbformat": 4,
 "nbformat_minor": 1
}
